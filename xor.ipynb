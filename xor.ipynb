{
 "cells": [
  {
   "cell_type": "code",
   "execution_count": 2,
   "metadata": {},
   "outputs": [
    {
     "name": "stdout",
     "output_type": "stream",
     "text": [
      "Epoch [1000/10000], Loss: 0.0027\n",
      "Epoch [2000/10000], Loss: 0.0009\n",
      "Epoch [3000/10000], Loss: 0.0005\n",
      "Epoch [4000/10000], Loss: 0.0004\n",
      "Epoch [5000/10000], Loss: 0.0003\n",
      "Epoch [6000/10000], Loss: 0.0002\n",
      "Epoch [7000/10000], Loss: 0.0002\n",
      "Epoch [8000/10000], Loss: 0.0002\n",
      "Epoch [9000/10000], Loss: 0.0002\n",
      "Epoch [10000/10000], Loss: 0.0001\n",
      "tensor([[0.0106],\n",
      "        [0.9889],\n",
      "        [0.9889],\n",
      "        [0.0136]]) tensor([[0.],\n",
      "        [1.],\n",
      "        [1.],\n",
      "        [0.]])\n",
      "Accuracy: 1.0000\n"
     ]
    }
   ],
   "source": [
    "import torch\n",
    "from torch import nn, optim\n",
    "\n",
    "\n",
    "class Xor(nn.Module):\n",
    "    def __init__(self):\n",
    "        super().__init__()\n",
    "        self.l = nn.Sequential(\n",
    "            nn.Linear(2, 2),\n",
    "            nn.Sigmoid(),\n",
    "            nn.Linear(2, 1),\n",
    "            nn.Sigmoid(),\n",
    "        )\n",
    "\n",
    "    def forward(self, x):\n",
    "        return self.l(x)\n",
    "\n",
    "\n",
    "X = torch.tensor([[0, 0], [0, 1], [1, 0], [1, 1]], dtype=torch.float)\n",
    "y = torch.tensor([[0], [1], [1], [0]], dtype=torch.float)\n",
    "\n",
    "model = Xor()\n",
    "\n",
    "criterion = nn.MSELoss()\n",
    "optimizer = optim.SGD(model.parameters(), lr=2)\n",
    "\n",
    "num_epochs = 10000\n",
    "for epoch in range(num_epochs):\n",
    "    outputs = model(X)\n",
    "    loss = criterion(outputs, y)\n",
    "\n",
    "    optimizer.zero_grad()\n",
    "    loss.backward()\n",
    "    optimizer.step()\n",
    "\n",
    "    if (epoch + 1) % 1000 == 0:\n",
    "        print(f\"Epoch [{epoch+1}/{num_epochs}], Loss: {loss.item():.4f}\")\n",
    "\n",
    "with torch.no_grad():\n",
    "    test_outputs = model(X)\n",
    "    predicted = (test_outputs > 0.5).float()\n",
    "    accuracy = (predicted == y).float().mean()\n",
    "    print(f\"Accuracy: {accuracy.item():.4f}\")"
   ]
  }
 ],
 "metadata": {
  "kernelspec": {
   "display_name": ".venv",
   "language": "python",
   "name": "python3"
  },
  "language_info": {
   "codemirror_mode": {
    "name": "ipython",
    "version": 3
   },
   "file_extension": ".py",
   "mimetype": "text/x-python",
   "name": "python",
   "nbconvert_exporter": "python",
   "pygments_lexer": "ipython3",
   "version": "3.12.7"
  }
 },
 "nbformat": 4,
 "nbformat_minor": 2
}
