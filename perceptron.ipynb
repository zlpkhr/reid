{
 "cells": [
  {
   "cell_type": "code",
   "execution_count": 12,
   "id": "8a4729c8",
   "metadata": {},
   "outputs": [
    {
     "name": "stdout",
     "output_type": "stream",
     "text": [
      "Accuracy: 0.5667\n"
     ]
    }
   ],
   "source": [
    "import math\n",
    "from random import random, shuffle\n",
    "from operator import mul\n",
    "\n",
    "\n",
    "def step(z):\n",
    "    return 1 if z >= 0 else 0\n",
    "\n",
    "\n",
    "def dot_product(A, B):\n",
    "    return sum(map(mul, A, B))\n",
    "\n",
    "\n",
    "def split(d, p):\n",
    "    i = math.floor(len(d) * p)\n",
    "    return (d[i:], d[:i])\n",
    "\n",
    "\n",
    "def shuffle_tgthr(*args):\n",
    "    zpd = list(zip(*args))\n",
    "    shuffle(zpd)\n",
    "    return zip(*zpd)\n",
    "\n",
    "\n",
    "class Perceptron:\n",
    "    def __init__(self, input_size):\n",
    "        self.W = [random() for _ in range(input_size)]\n",
    "        self.b = random()\n",
    "\n",
    "    def __call__(self, x):\n",
    "        return step(dot_product(self.W, x) + self.b)\n",
    "\n",
    "\n",
    "def accurate(W, X, b, y):\n",
    "    correct = sum(1 for i, x in enumerate(X) if step(dot_product(W, x) + b) == y[i])\n",
    "    return correct / len(y)\n",
    "\n",
    "\n",
    "dataset = []\n",
    "with open(\"datasets/iris/iris.data\", \"r\", encoding=\"utf-8\") as f:\n",
    "    for line in f:\n",
    "        strp_line = line.strip()\n",
    "        if strp_line:\n",
    "            dataset.append(strp_line.split(\",\"))\n",
    "\n",
    "X = []\n",
    "y = []\n",
    "for row in dataset:\n",
    "    label = row[-1]\n",
    "    if label != \"Iris-virginica\":\n",
    "        X.append([float(row[0]), float(row[1])])\n",
    "        y.append(0 if label == \"Iris-setosa\" else 1)\n",
    "\n",
    "X, y = shuffle_tgthr(X, y)\n",
    "X_train, X_test = split(X, 0.3)\n",
    "y_train, y_test = split(y, 0.3)\n",
    "\n",
    "perceptron = Perceptron(len(X[0]))\n",
    "\n",
    "epochs = 100\n",
    "learning_rate = 0.01\n",
    "\n",
    "for e in range(epochs):\n",
    "    if accurate(perceptron.W, X_train, perceptron.b, y_train) == 1:\n",
    "        break\n",
    "\n",
    "    for i, x in enumerate(X_train):\n",
    "        delta = y_train[i] - perceptron(x)\n",
    "        perceptron.W = [\n",
    "            w + learning_rate * delta * xi for w, xi in zip(perceptron.W, x)\n",
    "        ]\n",
    "        perceptron.b += learning_rate * delta\n",
    "\n",
    "accuracy = accurate(perceptron.W, X_test, perceptron.b, y_test)\n",
    "print(f\"Accuracy: {accuracy:.4f}\")"
   ]
  }
 ],
 "metadata": {
  "kernelspec": {
   "display_name": ".venv",
   "language": "python",
   "name": "python3"
  },
  "language_info": {
   "codemirror_mode": {
    "name": "ipython",
    "version": 3
   },
   "file_extension": ".py",
   "mimetype": "text/x-python",
   "name": "python",
   "nbconvert_exporter": "python",
   "pygments_lexer": "ipython3",
   "version": "3.12.7"
  }
 },
 "nbformat": 4,
 "nbformat_minor": 5
}
